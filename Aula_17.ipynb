{
  "nbformat": 4,
  "nbformat_minor": 0,
  "metadata": {
    "colab": {
      "provenance": [],
      "toc_visible": true,
      "authorship_tag": "ABX9TyM9bndm6eJJX4cdj6U4QyIS",
      "include_colab_link": true
    },
    "kernelspec": {
      "name": "python3",
      "display_name": "Python 3"
    },
    "language_info": {
      "name": "python"
    }
  },
  "cells": [
    {
      "cell_type": "markdown",
      "metadata": {
        "id": "view-in-github",
        "colab_type": "text"
      },
      "source": [
        "<a href=\"https://colab.research.google.com/github/caiocgomes/SenhorDasLLMs/blob/main/Aula_17.ipynb\" target=\"_parent\"><img src=\"https://colab.research.google.com/assets/colab-badge.svg\" alt=\"Open In Colab\"/></a>"
      ]
    },
    {
      "cell_type": "markdown",
      "source": [
        "# Introdução ao Python\n",
        "\n",
        "Aqui no curso estamos usando o Python. O Python é uma linguagem interpretada (explico mais para frente o que\n",
        "isso significa), e que é normalmente bastante lenta. No entanto, dada sua facilidade para programar, ela é muito usada em Machine Learning e AI e também é uma ótima primeira linguagem para quem não tem interesse em programação. Isso porque coisas que em outras linguages você teria controle para fazer, o Python faz automáticamente. Isso deixa ele mais fácil (mais util neste caso) mas também tira um pouco da liberdade que um programador profissional possa querer ter. No nosso caso, no entanto, não é um problema.\n",
        "\n",
        "## Conceitos gerais\n",
        "\n",
        "Vamos começar bem do inicio, aprendendo a ler um código.\n",
        "\n",
        "### O igual"
      ],
      "metadata": {
        "id": "R1E2_OvUdEOZ"
      }
    },
    {
      "cell_type": "markdown",
      "source": [
        "Vamos começar entendendo como ler um código. Um código é lido sequencialmente. O programa vai executar linha após linha até o resultado final.\n",
        "\n",
        "Vamos primeiro entender o que signfica o = (igual). O igual na maior parte das linguages de programação não tem o mesmo significado da matemática. Na matemática o igual indica que os dois objetos são identicos. Na programação, o igual indica que se está *atribuindo* o valor aquele objeto. Ou seja, é como se fosse uma caixa vazia e voce está colocando o valor dentro daquela caixa vazia."
      ],
      "metadata": {
        "id": "jjwQkm-RcSOK"
      }
    },
    {
      "cell_type": "code",
      "execution_count": null,
      "metadata": {
        "colab": {
          "base_uri": "https://localhost:8080/",
          "height": 144
        },
        "id": "vm9AfQ8wcB6-",
        "outputId": "cf19de30-e0b6-447e-a824-3ae1c1c3606d"
      },
      "outputs": [
        {
          "output_type": "error",
          "ename": "NameError",
          "evalue": "name 'a' is not defined",
          "traceback": [
            "\u001b[0;31m---------------------------------------------------------------------------\u001b[0m",
            "\u001b[0;31mNameError\u001b[0m                                 Traceback (most recent call last)",
            "\u001b[0;32m<ipython-input-2-bca0e2660b9f>\u001b[0m in \u001b[0;36m<cell line: 1>\u001b[0;34m()\u001b[0m\n\u001b[0;32m----> 1\u001b[0;31m \u001b[0mprint\u001b[0m\u001b[0;34m(\u001b[0m\u001b[0ma\u001b[0m\u001b[0;34m)\u001b[0m\u001b[0;34m\u001b[0m\u001b[0;34m\u001b[0m\u001b[0m\n\u001b[0m",
            "\u001b[0;31mNameError\u001b[0m: name 'a' is not defined"
          ]
        }
      ],
      "source": [
        "print(a)"
      ]
    },
    {
      "cell_type": "markdown",
      "source": [
        "Observe que eu tentei exibir o que estava no objeto a e ele fala que este objeto (entenda o objeto como se fosse uma caixa) não existe. Mas agora eu vou atribuir o valor ao objeto a e agora eu posso exibir o valor dele."
      ],
      "metadata": {
        "id": "kRgpzZfTc19T"
      }
    },
    {
      "cell_type": "code",
      "source": [
        "a = 1\n",
        "print(a)"
      ],
      "metadata": {
        "colab": {
          "base_uri": "https://localhost:8080/"
        },
        "id": "jo0NPQULcNto",
        "outputId": "03eeb801-01b6-4455-f5cb-bc26627a13b3"
      },
      "execution_count": null,
      "outputs": [
        {
          "output_type": "stream",
          "name": "stdout",
          "text": [
            "1\n"
          ]
        }
      ]
    },
    {
      "cell_type": "markdown",
      "source": [
        "O *a* é chamado uma variável, já que seu valor pode variar ao longo do programa. E da mesma maneira que eu atribui o valor 1 a variável *a* eu posso atribuir agora um texto (que chamamos de *string*. Já volto neste tópico)."
      ],
      "metadata": {
        "id": "PXUa2Dc1dNb8"
      }
    },
    {
      "cell_type": "code",
      "source": [
        "a = \"caio gomes\"\n",
        "print(a)"
      ],
      "metadata": {
        "colab": {
          "base_uri": "https://localhost:8080/"
        },
        "id": "qvhMzmXAdCcI",
        "outputId": "6885cfb7-7a77-4350-84ef-38c5eeb84f65"
      },
      "execution_count": null,
      "outputs": [
        {
          "output_type": "stream",
          "name": "stdout",
          "text": [
            "caio gomes\n"
          ]
        }
      ]
    },
    {
      "cell_type": "markdown",
      "source": [
        "Então você pode entender a variável como o lugar em que você guarda os resultados dos processos que você fez. Então eu posso fazer uma conta e falar \"Guarde o resultado desta conta dentro da variável que eu vou usar posteriormente\"."
      ],
      "metadata": {
        "id": "mO9eEDuJdqH1"
      }
    },
    {
      "cell_type": "code",
      "source": [
        "a = 1 + 1\n",
        "print(a)"
      ],
      "metadata": {
        "colab": {
          "base_uri": "https://localhost:8080/"
        },
        "id": "iSbup5eLdk6i",
        "outputId": "b1e54928-aad7-4335-d72d-44c97ab7b14b"
      },
      "execution_count": null,
      "outputs": [
        {
          "output_type": "stream",
          "name": "stdout",
          "text": [
            "2\n"
          ]
        }
      ]
    },
    {
      "cell_type": "markdown",
      "source": [
        "Então neste caso, o computador vai fazer a conta em questão e o resultado dela vai ser atribuido a variável a e vai ser guardado em memória. Desta maneira você pode usar estes resultados posteriormente para fazer contas ou tarefas. Um exemplo em LLMs é: O prompt que você digita na entrada (na caixa de texto) é guardado em uma variável para ser usado posteriormente.\n",
        "\n"
      ],
      "metadata": {
        "id": "aJM46-Ksd56o"
      }
    },
    {
      "cell_type": "markdown",
      "source": [
        "Como falei, o código é lido linha por linha. Então vamos mostrar um exemplo de como isso funciona.\n",
        "\n"
      ],
      "metadata": {
        "id": "TJfPRVhUfDKm"
      }
    },
    {
      "cell_type": "code",
      "source": [
        "a = 0\n",
        "print(a)\n",
        "\n",
        "b = 1\n",
        "print(b)\n",
        "a = b + 2\n",
        "print(a)"
      ],
      "metadata": {
        "colab": {
          "base_uri": "https://localhost:8080/"
        },
        "id": "OyX9i2qJfOsd",
        "outputId": "39554295-51c8-4dd8-b9c0-49be7af1c0d2"
      },
      "execution_count": null,
      "outputs": [
        {
          "output_type": "stream",
          "name": "stdout",
          "text": [
            "0\n",
            "1\n",
            "3\n"
          ]
        }
      ]
    },
    {
      "cell_type": "markdown",
      "source": [
        "Observe que a execução foi feita na ordem que foi escrita, linha por linha. Então primeiro atribuimos o zero a *a*, depois o 1 a *b* e posteriormente atribumos a como uma conta usando valor de *b*."
      ],
      "metadata": {
        "id": "QtQoZPfzfT9e"
      }
    },
    {
      "cell_type": "markdown",
      "source": [
        "### Tipos\n",
        "\n",
        "Na programação, nós temos diferentes tipos de objetos que usamos. Acima eu usei números inteiros e texto (strings). Esses são objetos bem básicos. Nós podemos falar que temos inteiros (int), numeros com ponto (float (ps: estou fazendo uma simplificação aqui)) e strings. É importante entender a diferença entre eles. Você só pode somar coisas numéricas. E divisões em inteiros podem te dar resultados estranhos. Vamos começar a ver isso:"
      ],
      "metadata": {
        "id": "1CEq5k4JjcN0"
      }
    },
    {
      "cell_type": "code",
      "source": [
        "a = 1\n",
        "print(a, type(a))\n",
        "\n",
        "a = 1.0\n",
        "print(a, type(a))\n",
        "\n",
        "a = \"caio gomes\"\n",
        "print(a, type(a))"
      ],
      "metadata": {
        "colab": {
          "base_uri": "https://localhost:8080/"
        },
        "id": "yT6L3c1aj_rl",
        "outputId": "0349a8a2-fc8f-4f1b-f22d-0164cf67e523"
      },
      "execution_count": null,
      "outputs": [
        {
          "output_type": "stream",
          "name": "stdout",
          "text": [
            "1 <class 'int'>\n",
            "1.0 <class 'float'>\n",
            "caio gomes <class 'str'>\n"
          ]
        }
      ]
    },
    {
      "cell_type": "markdown",
      "source": [
        "Mas além dos tipos básicos, existem outros tipos que são muito uteis. Os dois máis básicos são as listas e os dicionários. Para não ficar jogando conhecimento na cabeça de vocês, vamos começar só com a lista.\n",
        "\n",
        "A lista é um conjunto de outros tipos de objetos. Então ela te permite fazer como se fosse um jogo de baralho que vai agregar todos os objetos e você pode acessar um depois do outro.\n",
        "\n",
        "Você começa instanciando a lista com []. E depois disso começa a colocar os objetos dentro dela usando append. Deixe me mostrar abaixo:"
      ],
      "metadata": {
        "id": "m-WbG1BKj96-"
      }
    },
    {
      "cell_type": "code",
      "source": [
        "lista = []\n",
        "lista.append(1)\n",
        "lista.append(2)\n",
        "lista.append(\"caio gomes\")\n",
        "lista"
      ],
      "metadata": {
        "colab": {
          "base_uri": "https://localhost:8080/"
        },
        "id": "ZRs5FJiIkbW9",
        "outputId": "93c90454-f121-438f-857e-d230ebcd4b06"
      },
      "execution_count": null,
      "outputs": [
        {
          "output_type": "execute_result",
          "data": {
            "text/plain": [
              "[1, 2, 'caio gomes']"
            ]
          },
          "metadata": {},
          "execution_count": 19
        }
      ]
    },
    {
      "cell_type": "markdown",
      "source": [
        "Você pode agora tirar os números desta lista para fazer coisas. Para isso voce usa o atributo pop() (com esses parenteses vazios no final. vou explicar o porque disso depois). O pop sempre vai tirar o ultimo numero da lista."
      ],
      "metadata": {
        "id": "H0RigAYjliTl"
      }
    },
    {
      "cell_type": "code",
      "source": [
        "lista = []\n",
        "lista.append(1)\n",
        "lista.append(2)\n",
        "lista.append(3)\n",
        "\n",
        "lista.pop()"
      ],
      "metadata": {
        "colab": {
          "base_uri": "https://localhost:8080/"
        },
        "id": "4116QXA0lcQ4",
        "outputId": "9162f566-b915-40fe-91e7-8cf6128f6656"
      },
      "execution_count": null,
      "outputs": [
        {
          "output_type": "execute_result",
          "data": {
            "text/plain": [
              "3"
            ]
          },
          "metadata": {},
          "execution_count": 20
        }
      ]
    },
    {
      "cell_type": "markdown",
      "source": [
        "Se você quer somar os numeros que estão na lista, você poderia fazer isso:"
      ],
      "metadata": {
        "id": "u1ELCUmemBu-"
      }
    },
    {
      "cell_type": "code",
      "source": [
        "lista = []\n",
        "lista.append(1)\n",
        "lista.append(2)\n",
        "lista.append(3)\n",
        "\n",
        "a = 0\n",
        "\n",
        "a = a + lista.pop()\n",
        "a = a + lista.pop()\n",
        "a = a + lista.pop()\n",
        "a"
      ],
      "metadata": {
        "colab": {
          "base_uri": "https://localhost:8080/"
        },
        "id": "wMQ1qbdSmHhT",
        "outputId": "5c711bda-80ad-48c1-e841-3ca1e6837345"
      },
      "execution_count": null,
      "outputs": [
        {
          "output_type": "execute_result",
          "data": {
            "text/plain": [
              "6"
            ]
          },
          "metadata": {},
          "execution_count": 21
        }
      ]
    },
    {
      "cell_type": "markdown",
      "source": [
        "Na prática ninguem faz isso que fiz. Mesmo o pop é um método que eu uso raramente nos meus códigos. Mais pra frente vamos ver como escrever esse código. Em especial, observe que eu sabia que eram tres entradas na lista. Mas se fossem 2 entradas, eu teria tido um erro ao executar essas tres somas."
      ],
      "metadata": {
        "id": "URI5oaRtmMhS"
      }
    },
    {
      "cell_type": "code",
      "source": [
        "lista = []\n",
        "lista.append(1)\n",
        "lista.append(2)\n",
        "\n",
        "\n",
        "a = 0\n",
        "\n",
        "a = a + lista.pop()\n",
        "a = a + lista.pop()\n",
        "a = a + lista.pop()\n",
        "a"
      ],
      "metadata": {
        "colab": {
          "base_uri": "https://localhost:8080/",
          "height": 198
        },
        "id": "dopccZjvmeMy",
        "outputId": "9f0e0d3e-2581-4d77-d87d-213ede087369"
      },
      "execution_count": null,
      "outputs": [
        {
          "output_type": "error",
          "ename": "IndexError",
          "evalue": "pop from empty list",
          "traceback": [
            "\u001b[0;31m---------------------------------------------------------------------------\u001b[0m",
            "\u001b[0;31mIndexError\u001b[0m                                Traceback (most recent call last)",
            "\u001b[0;32m<ipython-input-22-58ca2377e959>\u001b[0m in \u001b[0;36m<cell line: 10>\u001b[0;34m()\u001b[0m\n\u001b[1;32m      8\u001b[0m \u001b[0ma\u001b[0m \u001b[0;34m=\u001b[0m \u001b[0ma\u001b[0m \u001b[0;34m+\u001b[0m \u001b[0mlista\u001b[0m\u001b[0;34m.\u001b[0m\u001b[0mpop\u001b[0m\u001b[0;34m(\u001b[0m\u001b[0;34m)\u001b[0m\u001b[0;34m\u001b[0m\u001b[0;34m\u001b[0m\u001b[0m\n\u001b[1;32m      9\u001b[0m \u001b[0ma\u001b[0m \u001b[0;34m=\u001b[0m \u001b[0ma\u001b[0m \u001b[0;34m+\u001b[0m \u001b[0mlista\u001b[0m\u001b[0;34m.\u001b[0m\u001b[0mpop\u001b[0m\u001b[0;34m(\u001b[0m\u001b[0;34m)\u001b[0m\u001b[0;34m\u001b[0m\u001b[0;34m\u001b[0m\u001b[0m\n\u001b[0;32m---> 10\u001b[0;31m \u001b[0ma\u001b[0m \u001b[0;34m=\u001b[0m \u001b[0ma\u001b[0m \u001b[0;34m+\u001b[0m \u001b[0mlista\u001b[0m\u001b[0;34m.\u001b[0m\u001b[0mpop\u001b[0m\u001b[0;34m(\u001b[0m\u001b[0;34m)\u001b[0m\u001b[0;34m\u001b[0m\u001b[0;34m\u001b[0m\u001b[0m\n\u001b[0m\u001b[1;32m     11\u001b[0m \u001b[0ma\u001b[0m\u001b[0;34m\u001b[0m\u001b[0;34m\u001b[0m\u001b[0m\n",
            "\u001b[0;31mIndexError\u001b[0m: pop from empty list"
          ]
        }
      ]
    },
    {
      "cell_type": "markdown",
      "source": [
        "Loops deixam tudo isso mais simples. Mas o importante é entender que listas servem para guardar objetos \"empilhados\".\n",
        "\n",
        "Uma última coisa: em vez de criar uma lista via append, como fiz, vc pode começar a lista escrevendo a sequencia com [ ] ao redor dela. Ou seja, escrever"
      ],
      "metadata": {
        "id": "tqwbKyMsmgqM"
      }
    },
    {
      "cell_type": "code",
      "source": [
        "lista = [1, 2, 3]\n",
        "lista"
      ],
      "metadata": {
        "colab": {
          "base_uri": "https://localhost:8080/"
        },
        "id": "CLHe6o2zm8O3",
        "outputId": "f53211d4-1d2e-4f1a-c05c-b8c71a72e645"
      },
      "execution_count": null,
      "outputs": [
        {
          "output_type": "execute_result",
          "data": {
            "text/plain": [
              "[1, 2, 3]"
            ]
          },
          "metadata": {},
          "execution_count": 24
        }
      ]
    },
    {
      "cell_type": "markdown",
      "source": [
        "é igual a escrever"
      ],
      "metadata": {
        "id": "6r2Q0ZK3nGhq"
      }
    },
    {
      "cell_type": "code",
      "source": [
        "lista = []\n",
        "lista.append(1)\n",
        "lista.append(2)\n",
        "lista.append(3)"
      ],
      "metadata": {
        "id": "26YM9CcCm_u8"
      },
      "execution_count": null,
      "outputs": []
    },
    {
      "cell_type": "markdown",
      "source": [
        "Nós podemos também entender o tamanho da lista. Se quero saber qual é o comprimento da lista, eu posso escrever *len(lista)*."
      ],
      "metadata": {
        "id": "DuBY7AStnJm0"
      }
    },
    {
      "cell_type": "code",
      "source": [
        "len(lista)\n",
        "\n"
      ],
      "metadata": {
        "colab": {
          "base_uri": "https://localhost:8080/"
        },
        "id": "kUziYLNKnJRa",
        "outputId": "55d682c4-a7d2-4460-edda-1f4278fad438"
      },
      "execution_count": null,
      "outputs": [
        {
          "output_type": "execute_result",
          "data": {
            "text/plain": [
              "3"
            ]
          },
          "metadata": {},
          "execution_count": 26
        }
      ]
    },
    {
      "cell_type": "markdown",
      "source": [
        "ou seja, a lista tem 3 elementos.\n",
        "\n",
        "Uma outra coisa que podemos fazer é acessar o n-ésimo elemento da lista. Mas aqui tem uma coisa importante. O Python é uma linguagem de programção que o primeiro elemento da lista é 0. Existem linguagens que o primeiro elemento é 1. Existem guerras dentro da programação de qual é o melhor método. No fundo, não muda nada. A unica coisa que muda é que você vai errar ao usar outra linguagem depois de um tempo usando outra.\n",
        "\n",
        "Então se quero acessar o segundo elemento da lista (o 2 no nosso exemplo) eu faria isso:"
      ],
      "metadata": {
        "id": "7hfojAQWnX_c"
      }
    },
    {
      "cell_type": "code",
      "source": [
        "lista[1]"
      ],
      "metadata": {
        "colab": {
          "base_uri": "https://localhost:8080/"
        },
        "id": "t5Uq5EiPnVdV",
        "outputId": "28b13904-abb3-4a4b-b569-ebd537a4070e"
      },
      "execution_count": null,
      "outputs": [
        {
          "output_type": "execute_result",
          "data": {
            "text/plain": [
              "2"
            ]
          },
          "metadata": {},
          "execution_count": 27
        }
      ]
    },
    {
      "cell_type": "markdown",
      "source": [
        "### If"
      ],
      "metadata": {
        "id": "l23hcbyDmrSc"
      }
    },
    {
      "cell_type": "markdown",
      "source": [
        "Uma outra clausula muito util é o *if*. O if é usado para se decidir o que fazer se uma clausula respeita uma condição especifica ou não. Vamos mostrar com um exemplo simples."
      ],
      "metadata": {
        "id": "OG87XMmweZES"
      }
    },
    {
      "cell_type": "code",
      "source": [
        "a = 1\n",
        "if (a>0):\n",
        "  print(\"Positivo\")\n",
        "else:\n",
        "  print(\"Negativo\")"
      ],
      "metadata": {
        "id": "fnen7Cntfv1o"
      },
      "execution_count": null,
      "outputs": []
    },
    {
      "cell_type": "markdown",
      "source": [
        "Aqui pode ter ficado um pouco mais complicado, então vamos linha por linha.\n",
        "\n",
        "Na primeira linha nos falamos que a vai receber o numero 1. Depois disso, usamos o *if*. O *if* neste caso está falando que se o valor de *a* for maior que zero (se o valor de a for maior que zero), imprima na tela a palavra positiva. Depois disso usamos *else*. Else nesse caso quer dizer (em caso contratrio). Ou seja, como a primeira expressão é se a é maior que zero, o else vai pegar os casos em que a é menor ou igual a zero."
      ],
      "metadata": {
        "id": "BBukf8lAf5kl"
      }
    },
    {
      "cell_type": "code",
      "source": [
        "a = 0\n",
        "if (a>0):\n",
        "  print(\"Positivo\")\n",
        "else:\n",
        "  print(\"Negativo\")"
      ],
      "metadata": {
        "colab": {
          "base_uri": "https://localhost:8080/"
        },
        "id": "LzurW4mHgf1w",
        "outputId": "cdd53bca-9451-4eaa-f0ac-b4388916276f"
      },
      "execution_count": null,
      "outputs": [
        {
          "output_type": "stream",
          "name": "stdout",
          "text": [
            "Negativo\n"
          ]
        }
      ]
    },
    {
      "cell_type": "markdown",
      "source": [
        "Só que isso é um problema. Zero não é positivo nem negativo. Então vamos usar uma outra clausula que se chama *elif*. Elif vem de *else if*. Ou seja, caso a primeira condição seja valida, ela vai pra segunda. E ai ele faz o if novamente."
      ],
      "metadata": {
        "id": "H9HVF3Lmghm0"
      }
    },
    {
      "cell_type": "code",
      "source": [
        "a = 0\n",
        "if (a>0):\n",
        "  print(\"Positivo\")\n",
        "elif (a<0):\n",
        "  print(\"Negativo\")\n",
        "else:\n",
        "  print(\"Nulo\")"
      ],
      "metadata": {
        "colab": {
          "base_uri": "https://localhost:8080/"
        },
        "id": "Cj8V53wpgxvW",
        "outputId": "504e8685-bb80-434b-eedf-716fb8b21b70"
      },
      "execution_count": null,
      "outputs": [
        {
          "output_type": "stream",
          "name": "stdout",
          "text": [
            "Nulo\n"
          ]
        }
      ]
    },
    {
      "cell_type": "markdown",
      "source": [
        "O *elif* é somente um código pra não ter que fazer um if dentro do else. Ele simplesmente existe pra fazer com que seu código fique mais simples. Mas no fundo é possivel fazer o que ele faz sem ele. Seria somente isto abaixo."
      ],
      "metadata": {
        "id": "Ty9aVFJLhDN5"
      }
    },
    {
      "cell_type": "code",
      "source": [
        "a = 0\n",
        "if (a>0):\n",
        "  print(\"Positivo\")\n",
        "else:\n",
        "  if (a < 0):\n",
        "    print(\"Negativo\")\n",
        "  else:\n",
        "    print(\"Nulo\")"
      ],
      "metadata": {
        "colab": {
          "base_uri": "https://localhost:8080/"
        },
        "id": "j_J7F2a9eTMf",
        "outputId": "bd267b69-72a1-4a70-9e30-2b69ca3178c5"
      },
      "execution_count": null,
      "outputs": [
        {
          "output_type": "stream",
          "name": "stdout",
          "text": [
            "Nulo\n"
          ]
        }
      ]
    },
    {
      "cell_type": "markdown",
      "source": [
        "É importante entender que o que está acontecendo. Aquilo que está entre os parenteses (a>0) é uma expressão Booleana. Booleana porque o resultado vai ser True or False (verdadeiro ou falso). Então poderiamos reescrever, só para ficar claro o que está acontecendo, desta maneira. Primeiro, vamos ver que realmente o que está aconcecendo ali é uma expressão booleana."
      ],
      "metadata": {
        "id": "5Wmc-wiBhV-0"
      }
    },
    {
      "cell_type": "code",
      "source": [
        "print(a>0)"
      ],
      "metadata": {
        "colab": {
          "base_uri": "https://localhost:8080/"
        },
        "id": "N-3zuaumhwEo",
        "outputId": "9ecbb1a3-d75e-461f-fd69-424b54d67285"
      },
      "execution_count": null,
      "outputs": [
        {
          "output_type": "stream",
          "name": "stdout",
          "text": [
            "False\n"
          ]
        }
      ]
    },
    {
      "cell_type": "markdown",
      "source": [
        "Ótimo, então agora vamos reescrever o if de uma maneira complemtamente explicita. Mas antes de fazer isso, preciso ensinar uma expressão extra. Se o igual (=) na programação significa atribuição, o que significa então a equialidade? Programadores não são muito criativos, então eles usam igual igual (==)."
      ],
      "metadata": {
        "id": "u0vwubVthyr8"
      }
    },
    {
      "cell_type": "code",
      "source": [
        "1 == 1"
      ],
      "metadata": {
        "colab": {
          "base_uri": "https://localhost:8080/"
        },
        "id": "qo_A1NZQhBWW",
        "outputId": "2f1284c9-c3eb-422b-8db7-6a7151e5da4b"
      },
      "execution_count": null,
      "outputs": [
        {
          "output_type": "execute_result",
          "data": {
            "text/plain": [
              "True"
            ]
          },
          "metadata": {},
          "execution_count": 12
        }
      ]
    },
    {
      "cell_type": "code",
      "source": [
        "1 == 0"
      ],
      "metadata": {
        "colab": {
          "base_uri": "https://localhost:8080/"
        },
        "id": "cj1bkrJviHQ5",
        "outputId": "d76f6961-7b1c-4a63-f064-37d7396ce834"
      },
      "execution_count": null,
      "outputs": [
        {
          "output_type": "execute_result",
          "data": {
            "text/plain": [
              "False"
            ]
          },
          "metadata": {},
          "execution_count": 13
        }
      ]
    },
    {
      "cell_type": "markdown",
      "source": [
        "Sabendo disso, podemos então reescrever aquela expressão acima como:"
      ],
      "metadata": {
        "id": "29dAiz3ZiKGJ"
      }
    },
    {
      "cell_type": "code",
      "source": [
        "a = 0\n",
        "if ((a > 0) == True):\n",
        "  print(\"Positivo\")\n",
        "if((a > 0) == False):\n",
        "  if ((a < 0) == True):\n",
        "    print(\"Negativo\")\n",
        "  if ((a < 0) == False):\n",
        "    print(\"Nulo\")"
      ],
      "metadata": {
        "id": "iXu0-JaYiIXf"
      },
      "execution_count": null,
      "outputs": []
    },
    {
      "cell_type": "markdown",
      "source": [
        "Então aquilo que escrevemos como if / else pode ser reescrito desta maneira. É muito mais verboso, então sempre usamos o if/else. Mas por tras dos panos é isso que está acontecendo."
      ],
      "metadata": {
        "id": "83Coxau5itsV"
      }
    },
    {
      "cell_type": "markdown",
      "source": [
        "### Loops\n",
        "\n",
        "Nós já sabemos fazer atribuições (=) e decisões. Agora vamos fazer laços (loops). Loops são repetições que vao sendo feitas uma atras da outra até que uma condição seja atingida. Vocês já vão entender. Existem dois tipos principais de loops, o *for* e o *while*. Eu vou me concentrar no for, mas o while é similar. Eu explico a diferença depois.\n",
        "\n",
        "Vamos direto para um exemplo e depois explicamos a sintaxe. Eu vou recriar aquele exemplo da soma da lista, que fiz acima, só que usando o for.\n",
        "\n"
      ],
      "metadata": {
        "id": "SxF4yXAXi5Zn"
      }
    },
    {
      "cell_type": "code",
      "source": [
        "lista = [1,2,3]\n",
        "a = 0\n",
        "for numero in lista:\n",
        "  print(numero)\n",
        "  a = a + numero\n",
        "print(f\"O resultado é {a}\")"
      ],
      "metadata": {
        "colab": {
          "base_uri": "https://localhost:8080/"
        },
        "id": "UPmOffCoi47M",
        "outputId": "bd527ad2-ac58-4872-f36c-acd3fde2daa9"
      },
      "execution_count": null,
      "outputs": [
        {
          "output_type": "stream",
          "name": "stdout",
          "text": [
            "1\n",
            "2\n",
            "3\n",
            "O resultado é 6\n"
          ]
        }
      ]
    },
    {
      "cell_type": "markdown",
      "source": [
        "Então que está acontecendo: Ali, o for vai olhar todos os elementos da lista, e vai colocar, um por vez, dentro da variável numero. Depois de fazer isso, ele vai executar o que está dentro do for (o print e a soma). Depois de executar isso ele vai passar para o próximo elemento da lista até o final. A lista pode ter 1000 numeros. Ele vai fazer isso um por um. Então aqui observe que meu código não precisa saber quantos numeros vão ter na lista. Ele vai se adaptar e rodar para todos os elementos que estão lá dentro. Legal né?\n",
        "\n",
        "Para mostrar que isso é verdade, vamos mostrar o range. O range vai criar uma lista de numeros até o numero n. Então se eu colocar range(3) ele vai fazer\n",
        "[0,1,2]. Se eu colocar range(1000) ele vai fazer [0,1,...,999].\n",
        "\n",
        "Então para mostrar que é verdade:"
      ],
      "metadata": {
        "id": "P_y51ifIoSIv"
      }
    },
    {
      "cell_type": "code",
      "source": [
        "lista = range(4)\n",
        "print(lista)\n",
        "a = 0\n",
        "for numero in lista:\n",
        "  print(numero)\n",
        "  a = a + numero\n",
        "print(f\"O resultado é {a}\")"
      ],
      "metadata": {
        "colab": {
          "base_uri": "https://localhost:8080/"
        },
        "id": "PVC5rc1viTEE",
        "outputId": "a7981950-12a3-4027-a994-1e8b2746f55e"
      },
      "execution_count": null,
      "outputs": [
        {
          "output_type": "stream",
          "name": "stdout",
          "text": [
            "range(0, 4)\n",
            "0\n",
            "1\n",
            "2\n",
            "3\n",
            "O resultado é 6\n"
          ]
        }
      ]
    },
    {
      "cell_type": "code",
      "source": [
        "lista = range(1000)\n",
        "print(lista)\n",
        "a = 0\n",
        "for numero in lista:\n",
        "  print(numero)\n",
        "  a = a + numero\n",
        "print(f\"O resultado é {a}\")"
      ],
      "metadata": {
        "colab": {
          "base_uri": "https://localhost:8080/"
        },
        "id": "zPborpHSpJeg",
        "outputId": "3ddc7400-7672-4bb0-b18f-c7e2f215e8f4"
      },
      "execution_count": null,
      "outputs": [
        {
          "output_type": "stream",
          "name": "stdout",
          "text": [
            "range(0, 1000)\n",
            "0\n",
            "1\n",
            "2\n",
            "3\n",
            "4\n",
            "5\n",
            "6\n",
            "7\n",
            "8\n",
            "9\n",
            "10\n",
            "11\n",
            "12\n",
            "13\n",
            "14\n",
            "15\n",
            "16\n",
            "17\n",
            "18\n",
            "19\n",
            "20\n",
            "21\n",
            "22\n",
            "23\n",
            "24\n",
            "25\n",
            "26\n",
            "27\n",
            "28\n",
            "29\n",
            "30\n",
            "31\n",
            "32\n",
            "33\n",
            "34\n",
            "35\n",
            "36\n",
            "37\n",
            "38\n",
            "39\n",
            "40\n",
            "41\n",
            "42\n",
            "43\n",
            "44\n",
            "45\n",
            "46\n",
            "47\n",
            "48\n",
            "49\n",
            "50\n",
            "51\n",
            "52\n",
            "53\n",
            "54\n",
            "55\n",
            "56\n",
            "57\n",
            "58\n",
            "59\n",
            "60\n",
            "61\n",
            "62\n",
            "63\n",
            "64\n",
            "65\n",
            "66\n",
            "67\n",
            "68\n",
            "69\n",
            "70\n",
            "71\n",
            "72\n",
            "73\n",
            "74\n",
            "75\n",
            "76\n",
            "77\n",
            "78\n",
            "79\n",
            "80\n",
            "81\n",
            "82\n",
            "83\n",
            "84\n",
            "85\n",
            "86\n",
            "87\n",
            "88\n",
            "89\n",
            "90\n",
            "91\n",
            "92\n",
            "93\n",
            "94\n",
            "95\n",
            "96\n",
            "97\n",
            "98\n",
            "99\n",
            "100\n",
            "101\n",
            "102\n",
            "103\n",
            "104\n",
            "105\n",
            "106\n",
            "107\n",
            "108\n",
            "109\n",
            "110\n",
            "111\n",
            "112\n",
            "113\n",
            "114\n",
            "115\n",
            "116\n",
            "117\n",
            "118\n",
            "119\n",
            "120\n",
            "121\n",
            "122\n",
            "123\n",
            "124\n",
            "125\n",
            "126\n",
            "127\n",
            "128\n",
            "129\n",
            "130\n",
            "131\n",
            "132\n",
            "133\n",
            "134\n",
            "135\n",
            "136\n",
            "137\n",
            "138\n",
            "139\n",
            "140\n",
            "141\n",
            "142\n",
            "143\n",
            "144\n",
            "145\n",
            "146\n",
            "147\n",
            "148\n",
            "149\n",
            "150\n",
            "151\n",
            "152\n",
            "153\n",
            "154\n",
            "155\n",
            "156\n",
            "157\n",
            "158\n",
            "159\n",
            "160\n",
            "161\n",
            "162\n",
            "163\n",
            "164\n",
            "165\n",
            "166\n",
            "167\n",
            "168\n",
            "169\n",
            "170\n",
            "171\n",
            "172\n",
            "173\n",
            "174\n",
            "175\n",
            "176\n",
            "177\n",
            "178\n",
            "179\n",
            "180\n",
            "181\n",
            "182\n",
            "183\n",
            "184\n",
            "185\n",
            "186\n",
            "187\n",
            "188\n",
            "189\n",
            "190\n",
            "191\n",
            "192\n",
            "193\n",
            "194\n",
            "195\n",
            "196\n",
            "197\n",
            "198\n",
            "199\n",
            "200\n",
            "201\n",
            "202\n",
            "203\n",
            "204\n",
            "205\n",
            "206\n",
            "207\n",
            "208\n",
            "209\n",
            "210\n",
            "211\n",
            "212\n",
            "213\n",
            "214\n",
            "215\n",
            "216\n",
            "217\n",
            "218\n",
            "219\n",
            "220\n",
            "221\n",
            "222\n",
            "223\n",
            "224\n",
            "225\n",
            "226\n",
            "227\n",
            "228\n",
            "229\n",
            "230\n",
            "231\n",
            "232\n",
            "233\n",
            "234\n",
            "235\n",
            "236\n",
            "237\n",
            "238\n",
            "239\n",
            "240\n",
            "241\n",
            "242\n",
            "243\n",
            "244\n",
            "245\n",
            "246\n",
            "247\n",
            "248\n",
            "249\n",
            "250\n",
            "251\n",
            "252\n",
            "253\n",
            "254\n",
            "255\n",
            "256\n",
            "257\n",
            "258\n",
            "259\n",
            "260\n",
            "261\n",
            "262\n",
            "263\n",
            "264\n",
            "265\n",
            "266\n",
            "267\n",
            "268\n",
            "269\n",
            "270\n",
            "271\n",
            "272\n",
            "273\n",
            "274\n",
            "275\n",
            "276\n",
            "277\n",
            "278\n",
            "279\n",
            "280\n",
            "281\n",
            "282\n",
            "283\n",
            "284\n",
            "285\n",
            "286\n",
            "287\n",
            "288\n",
            "289\n",
            "290\n",
            "291\n",
            "292\n",
            "293\n",
            "294\n",
            "295\n",
            "296\n",
            "297\n",
            "298\n",
            "299\n",
            "300\n",
            "301\n",
            "302\n",
            "303\n",
            "304\n",
            "305\n",
            "306\n",
            "307\n",
            "308\n",
            "309\n",
            "310\n",
            "311\n",
            "312\n",
            "313\n",
            "314\n",
            "315\n",
            "316\n",
            "317\n",
            "318\n",
            "319\n",
            "320\n",
            "321\n",
            "322\n",
            "323\n",
            "324\n",
            "325\n",
            "326\n",
            "327\n",
            "328\n",
            "329\n",
            "330\n",
            "331\n",
            "332\n",
            "333\n",
            "334\n",
            "335\n",
            "336\n",
            "337\n",
            "338\n",
            "339\n",
            "340\n",
            "341\n",
            "342\n",
            "343\n",
            "344\n",
            "345\n",
            "346\n",
            "347\n",
            "348\n",
            "349\n",
            "350\n",
            "351\n",
            "352\n",
            "353\n",
            "354\n",
            "355\n",
            "356\n",
            "357\n",
            "358\n",
            "359\n",
            "360\n",
            "361\n",
            "362\n",
            "363\n",
            "364\n",
            "365\n",
            "366\n",
            "367\n",
            "368\n",
            "369\n",
            "370\n",
            "371\n",
            "372\n",
            "373\n",
            "374\n",
            "375\n",
            "376\n",
            "377\n",
            "378\n",
            "379\n",
            "380\n",
            "381\n",
            "382\n",
            "383\n",
            "384\n",
            "385\n",
            "386\n",
            "387\n",
            "388\n",
            "389\n",
            "390\n",
            "391\n",
            "392\n",
            "393\n",
            "394\n",
            "395\n",
            "396\n",
            "397\n",
            "398\n",
            "399\n",
            "400\n",
            "401\n",
            "402\n",
            "403\n",
            "404\n",
            "405\n",
            "406\n",
            "407\n",
            "408\n",
            "409\n",
            "410\n",
            "411\n",
            "412\n",
            "413\n",
            "414\n",
            "415\n",
            "416\n",
            "417\n",
            "418\n",
            "419\n",
            "420\n",
            "421\n",
            "422\n",
            "423\n",
            "424\n",
            "425\n",
            "426\n",
            "427\n",
            "428\n",
            "429\n",
            "430\n",
            "431\n",
            "432\n",
            "433\n",
            "434\n",
            "435\n",
            "436\n",
            "437\n",
            "438\n",
            "439\n",
            "440\n",
            "441\n",
            "442\n",
            "443\n",
            "444\n",
            "445\n",
            "446\n",
            "447\n",
            "448\n",
            "449\n",
            "450\n",
            "451\n",
            "452\n",
            "453\n",
            "454\n",
            "455\n",
            "456\n",
            "457\n",
            "458\n",
            "459\n",
            "460\n",
            "461\n",
            "462\n",
            "463\n",
            "464\n",
            "465\n",
            "466\n",
            "467\n",
            "468\n",
            "469\n",
            "470\n",
            "471\n",
            "472\n",
            "473\n",
            "474\n",
            "475\n",
            "476\n",
            "477\n",
            "478\n",
            "479\n",
            "480\n",
            "481\n",
            "482\n",
            "483\n",
            "484\n",
            "485\n",
            "486\n",
            "487\n",
            "488\n",
            "489\n",
            "490\n",
            "491\n",
            "492\n",
            "493\n",
            "494\n",
            "495\n",
            "496\n",
            "497\n",
            "498\n",
            "499\n",
            "500\n",
            "501\n",
            "502\n",
            "503\n",
            "504\n",
            "505\n",
            "506\n",
            "507\n",
            "508\n",
            "509\n",
            "510\n",
            "511\n",
            "512\n",
            "513\n",
            "514\n",
            "515\n",
            "516\n",
            "517\n",
            "518\n",
            "519\n",
            "520\n",
            "521\n",
            "522\n",
            "523\n",
            "524\n",
            "525\n",
            "526\n",
            "527\n",
            "528\n",
            "529\n",
            "530\n",
            "531\n",
            "532\n",
            "533\n",
            "534\n",
            "535\n",
            "536\n",
            "537\n",
            "538\n",
            "539\n",
            "540\n",
            "541\n",
            "542\n",
            "543\n",
            "544\n",
            "545\n",
            "546\n",
            "547\n",
            "548\n",
            "549\n",
            "550\n",
            "551\n",
            "552\n",
            "553\n",
            "554\n",
            "555\n",
            "556\n",
            "557\n",
            "558\n",
            "559\n",
            "560\n",
            "561\n",
            "562\n",
            "563\n",
            "564\n",
            "565\n",
            "566\n",
            "567\n",
            "568\n",
            "569\n",
            "570\n",
            "571\n",
            "572\n",
            "573\n",
            "574\n",
            "575\n",
            "576\n",
            "577\n",
            "578\n",
            "579\n",
            "580\n",
            "581\n",
            "582\n",
            "583\n",
            "584\n",
            "585\n",
            "586\n",
            "587\n",
            "588\n",
            "589\n",
            "590\n",
            "591\n",
            "592\n",
            "593\n",
            "594\n",
            "595\n",
            "596\n",
            "597\n",
            "598\n",
            "599\n",
            "600\n",
            "601\n",
            "602\n",
            "603\n",
            "604\n",
            "605\n",
            "606\n",
            "607\n",
            "608\n",
            "609\n",
            "610\n",
            "611\n",
            "612\n",
            "613\n",
            "614\n",
            "615\n",
            "616\n",
            "617\n",
            "618\n",
            "619\n",
            "620\n",
            "621\n",
            "622\n",
            "623\n",
            "624\n",
            "625\n",
            "626\n",
            "627\n",
            "628\n",
            "629\n",
            "630\n",
            "631\n",
            "632\n",
            "633\n",
            "634\n",
            "635\n",
            "636\n",
            "637\n",
            "638\n",
            "639\n",
            "640\n",
            "641\n",
            "642\n",
            "643\n",
            "644\n",
            "645\n",
            "646\n",
            "647\n",
            "648\n",
            "649\n",
            "650\n",
            "651\n",
            "652\n",
            "653\n",
            "654\n",
            "655\n",
            "656\n",
            "657\n",
            "658\n",
            "659\n",
            "660\n",
            "661\n",
            "662\n",
            "663\n",
            "664\n",
            "665\n",
            "666\n",
            "667\n",
            "668\n",
            "669\n",
            "670\n",
            "671\n",
            "672\n",
            "673\n",
            "674\n",
            "675\n",
            "676\n",
            "677\n",
            "678\n",
            "679\n",
            "680\n",
            "681\n",
            "682\n",
            "683\n",
            "684\n",
            "685\n",
            "686\n",
            "687\n",
            "688\n",
            "689\n",
            "690\n",
            "691\n",
            "692\n",
            "693\n",
            "694\n",
            "695\n",
            "696\n",
            "697\n",
            "698\n",
            "699\n",
            "700\n",
            "701\n",
            "702\n",
            "703\n",
            "704\n",
            "705\n",
            "706\n",
            "707\n",
            "708\n",
            "709\n",
            "710\n",
            "711\n",
            "712\n",
            "713\n",
            "714\n",
            "715\n",
            "716\n",
            "717\n",
            "718\n",
            "719\n",
            "720\n",
            "721\n",
            "722\n",
            "723\n",
            "724\n",
            "725\n",
            "726\n",
            "727\n",
            "728\n",
            "729\n",
            "730\n",
            "731\n",
            "732\n",
            "733\n",
            "734\n",
            "735\n",
            "736\n",
            "737\n",
            "738\n",
            "739\n",
            "740\n",
            "741\n",
            "742\n",
            "743\n",
            "744\n",
            "745\n",
            "746\n",
            "747\n",
            "748\n",
            "749\n",
            "750\n",
            "751\n",
            "752\n",
            "753\n",
            "754\n",
            "755\n",
            "756\n",
            "757\n",
            "758\n",
            "759\n",
            "760\n",
            "761\n",
            "762\n",
            "763\n",
            "764\n",
            "765\n",
            "766\n",
            "767\n",
            "768\n",
            "769\n",
            "770\n",
            "771\n",
            "772\n",
            "773\n",
            "774\n",
            "775\n",
            "776\n",
            "777\n",
            "778\n",
            "779\n",
            "780\n",
            "781\n",
            "782\n",
            "783\n",
            "784\n",
            "785\n",
            "786\n",
            "787\n",
            "788\n",
            "789\n",
            "790\n",
            "791\n",
            "792\n",
            "793\n",
            "794\n",
            "795\n",
            "796\n",
            "797\n",
            "798\n",
            "799\n",
            "800\n",
            "801\n",
            "802\n",
            "803\n",
            "804\n",
            "805\n",
            "806\n",
            "807\n",
            "808\n",
            "809\n",
            "810\n",
            "811\n",
            "812\n",
            "813\n",
            "814\n",
            "815\n",
            "816\n",
            "817\n",
            "818\n",
            "819\n",
            "820\n",
            "821\n",
            "822\n",
            "823\n",
            "824\n",
            "825\n",
            "826\n",
            "827\n",
            "828\n",
            "829\n",
            "830\n",
            "831\n",
            "832\n",
            "833\n",
            "834\n",
            "835\n",
            "836\n",
            "837\n",
            "838\n",
            "839\n",
            "840\n",
            "841\n",
            "842\n",
            "843\n",
            "844\n",
            "845\n",
            "846\n",
            "847\n",
            "848\n",
            "849\n",
            "850\n",
            "851\n",
            "852\n",
            "853\n",
            "854\n",
            "855\n",
            "856\n",
            "857\n",
            "858\n",
            "859\n",
            "860\n",
            "861\n",
            "862\n",
            "863\n",
            "864\n",
            "865\n",
            "866\n",
            "867\n",
            "868\n",
            "869\n",
            "870\n",
            "871\n",
            "872\n",
            "873\n",
            "874\n",
            "875\n",
            "876\n",
            "877\n",
            "878\n",
            "879\n",
            "880\n",
            "881\n",
            "882\n",
            "883\n",
            "884\n",
            "885\n",
            "886\n",
            "887\n",
            "888\n",
            "889\n",
            "890\n",
            "891\n",
            "892\n",
            "893\n",
            "894\n",
            "895\n",
            "896\n",
            "897\n",
            "898\n",
            "899\n",
            "900\n",
            "901\n",
            "902\n",
            "903\n",
            "904\n",
            "905\n",
            "906\n",
            "907\n",
            "908\n",
            "909\n",
            "910\n",
            "911\n",
            "912\n",
            "913\n",
            "914\n",
            "915\n",
            "916\n",
            "917\n",
            "918\n",
            "919\n",
            "920\n",
            "921\n",
            "922\n",
            "923\n",
            "924\n",
            "925\n",
            "926\n",
            "927\n",
            "928\n",
            "929\n",
            "930\n",
            "931\n",
            "932\n",
            "933\n",
            "934\n",
            "935\n",
            "936\n",
            "937\n",
            "938\n",
            "939\n",
            "940\n",
            "941\n",
            "942\n",
            "943\n",
            "944\n",
            "945\n",
            "946\n",
            "947\n",
            "948\n",
            "949\n",
            "950\n",
            "951\n",
            "952\n",
            "953\n",
            "954\n",
            "955\n",
            "956\n",
            "957\n",
            "958\n",
            "959\n",
            "960\n",
            "961\n",
            "962\n",
            "963\n",
            "964\n",
            "965\n",
            "966\n",
            "967\n",
            "968\n",
            "969\n",
            "970\n",
            "971\n",
            "972\n",
            "973\n",
            "974\n",
            "975\n",
            "976\n",
            "977\n",
            "978\n",
            "979\n",
            "980\n",
            "981\n",
            "982\n",
            "983\n",
            "984\n",
            "985\n",
            "986\n",
            "987\n",
            "988\n",
            "989\n",
            "990\n",
            "991\n",
            "992\n",
            "993\n",
            "994\n",
            "995\n",
            "996\n",
            "997\n",
            "998\n",
            "999\n",
            "O resultado é 499500\n"
          ]
        }
      ]
    },
    {
      "cell_type": "markdown",
      "source": [
        "### Definir funções\n",
        "\n",
        "Tudo muito bom, mas uma das coisas mais uteis na programação é recriar códigos reusaveis de programa. Assim você pode reutilizar algo em diversas partes do seu código. Para isso *funções* são essenciais. Funções são templates de código que vão ser reutilizados quantas vezes você quiser. Funções são defindas com o comando *def*. E ali vão as entradas da função. O resultado dela é o return com o que você quer devolver. Vamos começar um exemplo bem bobo, mas que permite fazer isso."
      ],
      "metadata": {
        "id": "X7S0lMO7pvNk"
      }
    },
    {
      "cell_type": "code",
      "source": [
        "def soma(a,b):\n",
        "  return a + b\n",
        "\n"
      ],
      "metadata": {
        "id": "rPNl0erCpM5j"
      },
      "execution_count": null,
      "outputs": []
    },
    {
      "cell_type": "markdown",
      "source": [
        "Nesse caso, a função vai somar os dois numeros. Não é muito util, mas serve de exemplo."
      ],
      "metadata": {
        "id": "JlYP_iOmqj_G"
      }
    },
    {
      "cell_type": "code",
      "source": [
        "soma(2,3)"
      ],
      "metadata": {
        "colab": {
          "base_uri": "https://localhost:8080/"
        },
        "id": "5S8dqiwdqjui",
        "outputId": "51d7765b-f130-4605-f547-009f6e4243cf"
      },
      "execution_count": null,
      "outputs": [
        {
          "output_type": "execute_result",
          "data": {
            "text/plain": [
              "5"
            ]
          },
          "metadata": {},
          "execution_count": 34
        }
      ]
    },
    {
      "cell_type": "markdown",
      "source": [
        "Nós poderiamos fazer aquela função que soma lista, e agora reutilizar ela sem nenhum problema. O que ela precisa de entrada? Uma lista. E ela vai retornar um número.\n",
        "\n",
        "Vamos então construir essa função *soma_lista*"
      ],
      "metadata": {
        "id": "3qcdItJaquto"
      }
    },
    {
      "cell_type": "code",
      "source": [
        "def soma_lista(lista):\n",
        "  # Observe que a lista vai ser passada na função. Então eu nao preciso definir ela\n",
        "  a = 0\n",
        "  for numero in lista:\n",
        "\n",
        "    a = a + numero\n",
        "  print(f\"O resultado é {a}\")\n",
        "  return a"
      ],
      "metadata": {
        "id": "XfyOVpcNquBY"
      },
      "execution_count": null,
      "outputs": []
    },
    {
      "cell_type": "code",
      "source": [
        "soma_lista(range(3))\n"
      ],
      "metadata": {
        "colab": {
          "base_uri": "https://localhost:8080/"
        },
        "id": "81V-TynrrKIx",
        "outputId": "ae4cf356-753c-41e5-d69a-1c50bea588b9"
      },
      "execution_count": null,
      "outputs": [
        {
          "output_type": "stream",
          "name": "stdout",
          "text": [
            "0\n",
            "1\n",
            "2\n",
            "O resultado é 3\n"
          ]
        }
      ]
    },
    {
      "cell_type": "code",
      "source": [
        "soma_lista(range(1000))"
      ],
      "metadata": {
        "colab": {
          "base_uri": "https://localhost:8080/"
        },
        "id": "cLTxcdxDrPHO",
        "outputId": "e372ac34-0a3b-479a-e750-823101548f60"
      },
      "execution_count": null,
      "outputs": [
        {
          "output_type": "stream",
          "name": "stdout",
          "text": [
            "0\n",
            "1\n",
            "2\n",
            "3\n",
            "4\n",
            "5\n",
            "6\n",
            "7\n",
            "8\n",
            "9\n",
            "10\n",
            "11\n",
            "12\n",
            "13\n",
            "14\n",
            "15\n",
            "16\n",
            "17\n",
            "18\n",
            "19\n",
            "20\n",
            "21\n",
            "22\n",
            "23\n",
            "24\n",
            "25\n",
            "26\n",
            "27\n",
            "28\n",
            "29\n",
            "30\n",
            "31\n",
            "32\n",
            "33\n",
            "34\n",
            "35\n",
            "36\n",
            "37\n",
            "38\n",
            "39\n",
            "40\n",
            "41\n",
            "42\n",
            "43\n",
            "44\n",
            "45\n",
            "46\n",
            "47\n",
            "48\n",
            "49\n",
            "50\n",
            "51\n",
            "52\n",
            "53\n",
            "54\n",
            "55\n",
            "56\n",
            "57\n",
            "58\n",
            "59\n",
            "60\n",
            "61\n",
            "62\n",
            "63\n",
            "64\n",
            "65\n",
            "66\n",
            "67\n",
            "68\n",
            "69\n",
            "70\n",
            "71\n",
            "72\n",
            "73\n",
            "74\n",
            "75\n",
            "76\n",
            "77\n",
            "78\n",
            "79\n",
            "80\n",
            "81\n",
            "82\n",
            "83\n",
            "84\n",
            "85\n",
            "86\n",
            "87\n",
            "88\n",
            "89\n",
            "90\n",
            "91\n",
            "92\n",
            "93\n",
            "94\n",
            "95\n",
            "96\n",
            "97\n",
            "98\n",
            "99\n",
            "100\n",
            "101\n",
            "102\n",
            "103\n",
            "104\n",
            "105\n",
            "106\n",
            "107\n",
            "108\n",
            "109\n",
            "110\n",
            "111\n",
            "112\n",
            "113\n",
            "114\n",
            "115\n",
            "116\n",
            "117\n",
            "118\n",
            "119\n",
            "120\n",
            "121\n",
            "122\n",
            "123\n",
            "124\n",
            "125\n",
            "126\n",
            "127\n",
            "128\n",
            "129\n",
            "130\n",
            "131\n",
            "132\n",
            "133\n",
            "134\n",
            "135\n",
            "136\n",
            "137\n",
            "138\n",
            "139\n",
            "140\n",
            "141\n",
            "142\n",
            "143\n",
            "144\n",
            "145\n",
            "146\n",
            "147\n",
            "148\n",
            "149\n",
            "150\n",
            "151\n",
            "152\n",
            "153\n",
            "154\n",
            "155\n",
            "156\n",
            "157\n",
            "158\n",
            "159\n",
            "160\n",
            "161\n",
            "162\n",
            "163\n",
            "164\n",
            "165\n",
            "166\n",
            "167\n",
            "168\n",
            "169\n",
            "170\n",
            "171\n",
            "172\n",
            "173\n",
            "174\n",
            "175\n",
            "176\n",
            "177\n",
            "178\n",
            "179\n",
            "180\n",
            "181\n",
            "182\n",
            "183\n",
            "184\n",
            "185\n",
            "186\n",
            "187\n",
            "188\n",
            "189\n",
            "190\n",
            "191\n",
            "192\n",
            "193\n",
            "194\n",
            "195\n",
            "196\n",
            "197\n",
            "198\n",
            "199\n",
            "200\n",
            "201\n",
            "202\n",
            "203\n",
            "204\n",
            "205\n",
            "206\n",
            "207\n",
            "208\n",
            "209\n",
            "210\n",
            "211\n",
            "212\n",
            "213\n",
            "214\n",
            "215\n",
            "216\n",
            "217\n",
            "218\n",
            "219\n",
            "220\n",
            "221\n",
            "222\n",
            "223\n",
            "224\n",
            "225\n",
            "226\n",
            "227\n",
            "228\n",
            "229\n",
            "230\n",
            "231\n",
            "232\n",
            "233\n",
            "234\n",
            "235\n",
            "236\n",
            "237\n",
            "238\n",
            "239\n",
            "240\n",
            "241\n",
            "242\n",
            "243\n",
            "244\n",
            "245\n",
            "246\n",
            "247\n",
            "248\n",
            "249\n",
            "250\n",
            "251\n",
            "252\n",
            "253\n",
            "254\n",
            "255\n",
            "256\n",
            "257\n",
            "258\n",
            "259\n",
            "260\n",
            "261\n",
            "262\n",
            "263\n",
            "264\n",
            "265\n",
            "266\n",
            "267\n",
            "268\n",
            "269\n",
            "270\n",
            "271\n",
            "272\n",
            "273\n",
            "274\n",
            "275\n",
            "276\n",
            "277\n",
            "278\n",
            "279\n",
            "280\n",
            "281\n",
            "282\n",
            "283\n",
            "284\n",
            "285\n",
            "286\n",
            "287\n",
            "288\n",
            "289\n",
            "290\n",
            "291\n",
            "292\n",
            "293\n",
            "294\n",
            "295\n",
            "296\n",
            "297\n",
            "298\n",
            "299\n",
            "300\n",
            "301\n",
            "302\n",
            "303\n",
            "304\n",
            "305\n",
            "306\n",
            "307\n",
            "308\n",
            "309\n",
            "310\n",
            "311\n",
            "312\n",
            "313\n",
            "314\n",
            "315\n",
            "316\n",
            "317\n",
            "318\n",
            "319\n",
            "320\n",
            "321\n",
            "322\n",
            "323\n",
            "324\n",
            "325\n",
            "326\n",
            "327\n",
            "328\n",
            "329\n",
            "330\n",
            "331\n",
            "332\n",
            "333\n",
            "334\n",
            "335\n",
            "336\n",
            "337\n",
            "338\n",
            "339\n",
            "340\n",
            "341\n",
            "342\n",
            "343\n",
            "344\n",
            "345\n",
            "346\n",
            "347\n",
            "348\n",
            "349\n",
            "350\n",
            "351\n",
            "352\n",
            "353\n",
            "354\n",
            "355\n",
            "356\n",
            "357\n",
            "358\n",
            "359\n",
            "360\n",
            "361\n",
            "362\n",
            "363\n",
            "364\n",
            "365\n",
            "366\n",
            "367\n",
            "368\n",
            "369\n",
            "370\n",
            "371\n",
            "372\n",
            "373\n",
            "374\n",
            "375\n",
            "376\n",
            "377\n",
            "378\n",
            "379\n",
            "380\n",
            "381\n",
            "382\n",
            "383\n",
            "384\n",
            "385\n",
            "386\n",
            "387\n",
            "388\n",
            "389\n",
            "390\n",
            "391\n",
            "392\n",
            "393\n",
            "394\n",
            "395\n",
            "396\n",
            "397\n",
            "398\n",
            "399\n",
            "400\n",
            "401\n",
            "402\n",
            "403\n",
            "404\n",
            "405\n",
            "406\n",
            "407\n",
            "408\n",
            "409\n",
            "410\n",
            "411\n",
            "412\n",
            "413\n",
            "414\n",
            "415\n",
            "416\n",
            "417\n",
            "418\n",
            "419\n",
            "420\n",
            "421\n",
            "422\n",
            "423\n",
            "424\n",
            "425\n",
            "426\n",
            "427\n",
            "428\n",
            "429\n",
            "430\n",
            "431\n",
            "432\n",
            "433\n",
            "434\n",
            "435\n",
            "436\n",
            "437\n",
            "438\n",
            "439\n",
            "440\n",
            "441\n",
            "442\n",
            "443\n",
            "444\n",
            "445\n",
            "446\n",
            "447\n",
            "448\n",
            "449\n",
            "450\n",
            "451\n",
            "452\n",
            "453\n",
            "454\n",
            "455\n",
            "456\n",
            "457\n",
            "458\n",
            "459\n",
            "460\n",
            "461\n",
            "462\n",
            "463\n",
            "464\n",
            "465\n",
            "466\n",
            "467\n",
            "468\n",
            "469\n",
            "470\n",
            "471\n",
            "472\n",
            "473\n",
            "474\n",
            "475\n",
            "476\n",
            "477\n",
            "478\n",
            "479\n",
            "480\n",
            "481\n",
            "482\n",
            "483\n",
            "484\n",
            "485\n",
            "486\n",
            "487\n",
            "488\n",
            "489\n",
            "490\n",
            "491\n",
            "492\n",
            "493\n",
            "494\n",
            "495\n",
            "496\n",
            "497\n",
            "498\n",
            "499\n",
            "500\n",
            "501\n",
            "502\n",
            "503\n",
            "504\n",
            "505\n",
            "506\n",
            "507\n",
            "508\n",
            "509\n",
            "510\n",
            "511\n",
            "512\n",
            "513\n",
            "514\n",
            "515\n",
            "516\n",
            "517\n",
            "518\n",
            "519\n",
            "520\n",
            "521\n",
            "522\n",
            "523\n",
            "524\n",
            "525\n",
            "526\n",
            "527\n",
            "528\n",
            "529\n",
            "530\n",
            "531\n",
            "532\n",
            "533\n",
            "534\n",
            "535\n",
            "536\n",
            "537\n",
            "538\n",
            "539\n",
            "540\n",
            "541\n",
            "542\n",
            "543\n",
            "544\n",
            "545\n",
            "546\n",
            "547\n",
            "548\n",
            "549\n",
            "550\n",
            "551\n",
            "552\n",
            "553\n",
            "554\n",
            "555\n",
            "556\n",
            "557\n",
            "558\n",
            "559\n",
            "560\n",
            "561\n",
            "562\n",
            "563\n",
            "564\n",
            "565\n",
            "566\n",
            "567\n",
            "568\n",
            "569\n",
            "570\n",
            "571\n",
            "572\n",
            "573\n",
            "574\n",
            "575\n",
            "576\n",
            "577\n",
            "578\n",
            "579\n",
            "580\n",
            "581\n",
            "582\n",
            "583\n",
            "584\n",
            "585\n",
            "586\n",
            "587\n",
            "588\n",
            "589\n",
            "590\n",
            "591\n",
            "592\n",
            "593\n",
            "594\n",
            "595\n",
            "596\n",
            "597\n",
            "598\n",
            "599\n",
            "600\n",
            "601\n",
            "602\n",
            "603\n",
            "604\n",
            "605\n",
            "606\n",
            "607\n",
            "608\n",
            "609\n",
            "610\n",
            "611\n",
            "612\n",
            "613\n",
            "614\n",
            "615\n",
            "616\n",
            "617\n",
            "618\n",
            "619\n",
            "620\n",
            "621\n",
            "622\n",
            "623\n",
            "624\n",
            "625\n",
            "626\n",
            "627\n",
            "628\n",
            "629\n",
            "630\n",
            "631\n",
            "632\n",
            "633\n",
            "634\n",
            "635\n",
            "636\n",
            "637\n",
            "638\n",
            "639\n",
            "640\n",
            "641\n",
            "642\n",
            "643\n",
            "644\n",
            "645\n",
            "646\n",
            "647\n",
            "648\n",
            "649\n",
            "650\n",
            "651\n",
            "652\n",
            "653\n",
            "654\n",
            "655\n",
            "656\n",
            "657\n",
            "658\n",
            "659\n",
            "660\n",
            "661\n",
            "662\n",
            "663\n",
            "664\n",
            "665\n",
            "666\n",
            "667\n",
            "668\n",
            "669\n",
            "670\n",
            "671\n",
            "672\n",
            "673\n",
            "674\n",
            "675\n",
            "676\n",
            "677\n",
            "678\n",
            "679\n",
            "680\n",
            "681\n",
            "682\n",
            "683\n",
            "684\n",
            "685\n",
            "686\n",
            "687\n",
            "688\n",
            "689\n",
            "690\n",
            "691\n",
            "692\n",
            "693\n",
            "694\n",
            "695\n",
            "696\n",
            "697\n",
            "698\n",
            "699\n",
            "700\n",
            "701\n",
            "702\n",
            "703\n",
            "704\n",
            "705\n",
            "706\n",
            "707\n",
            "708\n",
            "709\n",
            "710\n",
            "711\n",
            "712\n",
            "713\n",
            "714\n",
            "715\n",
            "716\n",
            "717\n",
            "718\n",
            "719\n",
            "720\n",
            "721\n",
            "722\n",
            "723\n",
            "724\n",
            "725\n",
            "726\n",
            "727\n",
            "728\n",
            "729\n",
            "730\n",
            "731\n",
            "732\n",
            "733\n",
            "734\n",
            "735\n",
            "736\n",
            "737\n",
            "738\n",
            "739\n",
            "740\n",
            "741\n",
            "742\n",
            "743\n",
            "744\n",
            "745\n",
            "746\n",
            "747\n",
            "748\n",
            "749\n",
            "750\n",
            "751\n",
            "752\n",
            "753\n",
            "754\n",
            "755\n",
            "756\n",
            "757\n",
            "758\n",
            "759\n",
            "760\n",
            "761\n",
            "762\n",
            "763\n",
            "764\n",
            "765\n",
            "766\n",
            "767\n",
            "768\n",
            "769\n",
            "770\n",
            "771\n",
            "772\n",
            "773\n",
            "774\n",
            "775\n",
            "776\n",
            "777\n",
            "778\n",
            "779\n",
            "780\n",
            "781\n",
            "782\n",
            "783\n",
            "784\n",
            "785\n",
            "786\n",
            "787\n",
            "788\n",
            "789\n",
            "790\n",
            "791\n",
            "792\n",
            "793\n",
            "794\n",
            "795\n",
            "796\n",
            "797\n",
            "798\n",
            "799\n",
            "800\n",
            "801\n",
            "802\n",
            "803\n",
            "804\n",
            "805\n",
            "806\n",
            "807\n",
            "808\n",
            "809\n",
            "810\n",
            "811\n",
            "812\n",
            "813\n",
            "814\n",
            "815\n",
            "816\n",
            "817\n",
            "818\n",
            "819\n",
            "820\n",
            "821\n",
            "822\n",
            "823\n",
            "824\n",
            "825\n",
            "826\n",
            "827\n",
            "828\n",
            "829\n",
            "830\n",
            "831\n",
            "832\n",
            "833\n",
            "834\n",
            "835\n",
            "836\n",
            "837\n",
            "838\n",
            "839\n",
            "840\n",
            "841\n",
            "842\n",
            "843\n",
            "844\n",
            "845\n",
            "846\n",
            "847\n",
            "848\n",
            "849\n",
            "850\n",
            "851\n",
            "852\n",
            "853\n",
            "854\n",
            "855\n",
            "856\n",
            "857\n",
            "858\n",
            "859\n",
            "860\n",
            "861\n",
            "862\n",
            "863\n",
            "864\n",
            "865\n",
            "866\n",
            "867\n",
            "868\n",
            "869\n",
            "870\n",
            "871\n",
            "872\n",
            "873\n",
            "874\n",
            "875\n",
            "876\n",
            "877\n",
            "878\n",
            "879\n",
            "880\n",
            "881\n",
            "882\n",
            "883\n",
            "884\n",
            "885\n",
            "886\n",
            "887\n",
            "888\n",
            "889\n",
            "890\n",
            "891\n",
            "892\n",
            "893\n",
            "894\n",
            "895\n",
            "896\n",
            "897\n",
            "898\n",
            "899\n",
            "900\n",
            "901\n",
            "902\n",
            "903\n",
            "904\n",
            "905\n",
            "906\n",
            "907\n",
            "908\n",
            "909\n",
            "910\n",
            "911\n",
            "912\n",
            "913\n",
            "914\n",
            "915\n",
            "916\n",
            "917\n",
            "918\n",
            "919\n",
            "920\n",
            "921\n",
            "922\n",
            "923\n",
            "924\n",
            "925\n",
            "926\n",
            "927\n",
            "928\n",
            "929\n",
            "930\n",
            "931\n",
            "932\n",
            "933\n",
            "934\n",
            "935\n",
            "936\n",
            "937\n",
            "938\n",
            "939\n",
            "940\n",
            "941\n",
            "942\n",
            "943\n",
            "944\n",
            "945\n",
            "946\n",
            "947\n",
            "948\n",
            "949\n",
            "950\n",
            "951\n",
            "952\n",
            "953\n",
            "954\n",
            "955\n",
            "956\n",
            "957\n",
            "958\n",
            "959\n",
            "960\n",
            "961\n",
            "962\n",
            "963\n",
            "964\n",
            "965\n",
            "966\n",
            "967\n",
            "968\n",
            "969\n",
            "970\n",
            "971\n",
            "972\n",
            "973\n",
            "974\n",
            "975\n",
            "976\n",
            "977\n",
            "978\n",
            "979\n",
            "980\n",
            "981\n",
            "982\n",
            "983\n",
            "984\n",
            "985\n",
            "986\n",
            "987\n",
            "988\n",
            "989\n",
            "990\n",
            "991\n",
            "992\n",
            "993\n",
            "994\n",
            "995\n",
            "996\n",
            "997\n",
            "998\n",
            "999\n",
            "O resultado é 499500\n"
          ]
        }
      ]
    },
    {
      "cell_type": "markdown",
      "source": [
        "## Exemplo 1: Calculadora de Fibonacci.\n",
        "\n",
        "Vamos então fazer a primeira coisa util (talvez não tão util se você não for das exatas, mas vocês entenderam).\n",
        "\n",
        "A séria de Fibonacci é uma série famosa na matemática. Ela é definida da seguinte maneira.\n",
        "\n",
        "O primeiro elemento da série é 0. O segundo elemento é 1. Nós escrevemos eles então como : $$F_1 = 0$$ e $$F_2 = 1$$\n",
        "\n",
        "Agora, nós podemos escrever o n-ésimo numero desta série como\n",
        "\n",
        "$$F_n = F_{n-1} + F_{n-2}$$.\n",
        "\n",
        "Vamos fazer um exemplo na mão. O $F_5$ é então\n",
        "\n",
        "$$F_5 = F_4 + F_3$$.\n",
        "\n",
        "e sabemos que $F_4 = F_3 + F_2 = F_3 + 1$.\n",
        "\n",
        "Também sabemos que $F_3 = F_2 + F_1 = 1 + 0 = 1$. Logo $F_3 = 1$. Sabendo $F_3$ podemos calcular $F_4$.\n",
        "\n",
        "$$F_4 = F_3 + F_2 = 1 + 1 = 2$$. E portanto, $$F_5 = F_4 + F_3 = 2 + 1 = 3$$.\n",
        "\n",
        "Puta trabalheira! Mas será que conseguimos reescrever isso de maneira que seja simples de calcular? Vamos lá! Vamos começar definindo o que é a função Fibonacci.\n",
        "\n",
        "\n",
        "\n"
      ],
      "metadata": {
        "id": "5vNZgIvupRsN"
      }
    },
    {
      "cell_type": "code",
      "source": [
        "def fibonnaci(n):\n",
        "  return fibonacci(n-1) + fibonacci(n-2)"
      ],
      "metadata": {
        "id": "wdhh-abmpsx1"
      },
      "execution_count": null,
      "outputs": []
    },
    {
      "cell_type": "markdown",
      "source": [
        "Só que aqui é um problema. pq elas vão ficar se chamando sem nunca parar. Mas nós sabemos que existe dois números que são definidos. O $F_1$ e $F_2$. Então vamos usar um if para fazer isso funcionar:"
      ],
      "metadata": {
        "id": "70IfA36HtmNR"
      }
    },
    {
      "cell_type": "code",
      "source": [
        "def fibonnaci(n):\n",
        "  if (n==1):\n",
        "    return 0\n",
        "  elif (n==2):\n",
        "    return 1\n",
        "  else:\n",
        "    return fibonnaci(n-1) + fibonnaci(n-2)"
      ],
      "metadata": {
        "id": "LtH2eDfot3Ad"
      },
      "execution_count": null,
      "outputs": []
    },
    {
      "cell_type": "markdown",
      "source": [
        "Agora parece que funciona. Vamos testar com esse numero que calculamos acima:"
      ],
      "metadata": {
        "id": "RUpgJQMjt2nQ"
      }
    },
    {
      "cell_type": "code",
      "source": [
        "fibonnaci(5)"
      ],
      "metadata": {
        "colab": {
          "base_uri": "https://localhost:8080/"
        },
        "id": "pV9CrsJjuOaT",
        "outputId": "362c6981-f375-4c00-ab62-d639bf89242e"
      },
      "execution_count": null,
      "outputs": [
        {
          "output_type": "execute_result",
          "data": {
            "text/plain": [
              "3"
            ]
          },
          "metadata": {},
          "execution_count": 45
        }
      ]
    },
    {
      "cell_type": "markdown",
      "source": [
        "E podemos testar para calcular numeros bem grandes até. Vamos calcular $F_{20}$"
      ],
      "metadata": {
        "id": "x0gAu2ZvuZDr"
      }
    },
    {
      "cell_type": "code",
      "source": [
        "fibonnaci(20)"
      ],
      "metadata": {
        "id": "3FiKSqlAuQZz",
        "colab": {
          "base_uri": "https://localhost:8080/",
          "height": 141
        },
        "outputId": "51624cc6-60c9-4d3e-fcf2-2931784835cf"
      },
      "execution_count": null,
      "outputs": [
        {
          "output_type": "error",
          "ename": "NameError",
          "evalue": "name 'fibonnaci' is not defined",
          "traceback": [
            "\u001b[0;31m---------------------------------------------------------------------------\u001b[0m",
            "\u001b[0;31mNameError\u001b[0m                                 Traceback (most recent call last)",
            "\u001b[0;32m<ipython-input-2-84b4c786fa51>\u001b[0m in \u001b[0;36m<cell line: 1>\u001b[0;34m()\u001b[0m\n\u001b[0;32m----> 1\u001b[0;31m \u001b[0mfibonnaci\u001b[0m\u001b[0;34m(\u001b[0m\u001b[0;36m20\u001b[0m\u001b[0;34m)\u001b[0m\u001b[0;34m\u001b[0m\u001b[0;34m\u001b[0m\u001b[0m\n\u001b[0m",
            "\u001b[0;31mNameError\u001b[0m: name 'fibonnaci' is not defined"
          ]
        }
      ]
    },
    {
      "cell_type": "markdown",
      "source": [
        "Mas eu já aviso. Apesar de ser muito mais rápido que calcular a mão, esse código é muito não performático. Então uma porrada de chamadas inuteis vão ser feitas. Da pra fazer algo muito melhor que isso no futuro. Mas vemos isso depois."
      ],
      "metadata": {
        "id": "Gjo8oPGjupx1"
      }
    },
    {
      "cell_type": "markdown",
      "source": [
        "## Exemplo 2: Fatorial\n",
        "\n",
        "Vamos para mais um daqueles exemplos que são uteis numa faculdade de física e que pessoas normais nunca vão usar. Me desculpem por isso, mas é a escola de programação que segui um boa parte da minha vida. :)\n",
        "\n",
        "O fatorial é definido da seguinte maneira.\n",
        "\n",
        "$$ 1! = 1$$\n",
        "e\n",
        "\n",
        "$$n! = n \\times (n-1)!$$\n",
        "\n",
        "observem que é novamente uma função recursiva. Ou seja, um saco pra calcular. Mas o legal dessa é que existem duas maneiras de se calcular ela. Uma aonde eu uso a definição recursiva que coloquei acima.\n",
        "\n",
        "Ou eu uso o fato que $$n-1! = (n-2) \\times (n-3)!$$ e percebo que\n",
        "$$n! = n \\times n-1 \\times \\cdots \\times 2  \\times 1$$"
      ],
      "metadata": {
        "id": "p2bWdFXpu-LQ"
      }
    },
    {
      "cell_type": "code",
      "source": [
        "def fatorial1(n):\n",
        "  numeros = range(n)\n",
        "  fatorial = 1\n",
        "  for numero in numeros:\n",
        "    fatorial = fatorial *(numero + 1)\n",
        "  return fatorial"
      ],
      "metadata": {
        "id": "C5jdNCX4uhCg"
      },
      "execution_count": null,
      "outputs": []
    },
    {
      "cell_type": "code",
      "source": [
        "def fatorial2(n):\n",
        "  if n == 1:\n",
        "    return 1\n",
        "  else:\n",
        "    return n * fatorial2(n-1)"
      ],
      "metadata": {
        "id": "SpKwJSkdwmqV"
      },
      "execution_count": null,
      "outputs": []
    },
    {
      "cell_type": "code",
      "source": [
        "%timeit fatorial1(10)\n",
        "%timeit fatorial2(10)"
      ],
      "metadata": {
        "colab": {
          "base_uri": "https://localhost:8080/"
        },
        "id": "ouhMndx_wwlV",
        "outputId": "7ebd47d0-fa6f-46f5-b980-eaeb21dbe815"
      },
      "execution_count": null,
      "outputs": [
        {
          "output_type": "stream",
          "name": "stdout",
          "text": [
            "1.13 µs ± 327 ns per loop (mean ± std. dev. of 7 runs, 1000000 loops each)\n",
            "1.66 µs ± 317 ns per loop (mean ± std. dev. of 7 runs, 1000000 loops each)\n"
          ]
        }
      ]
    },
    {
      "cell_type": "code",
      "source": [
        "%timeit fatorial1(100)\n",
        "%timeit fatorial2(100)"
      ],
      "metadata": {
        "colab": {
          "base_uri": "https://localhost:8080/"
        },
        "id": "7zZxZE3Sw1eC",
        "outputId": "afadeb67-857d-4505-f4ad-d1f1d1153bc9"
      },
      "execution_count": null,
      "outputs": [
        {
          "output_type": "stream",
          "name": "stdout",
          "text": [
            "11.1 µs ± 3.15 µs per loop (mean ± std. dev. of 7 runs, 100000 loops each)\n",
            "21.8 µs ± 7.09 µs per loop (mean ± std. dev. of 7 runs, 10000 loops each)\n"
          ]
        }
      ]
    },
    {
      "cell_type": "code",
      "source": [
        "%timeit fatorial1(1000)\n",
        "%timeit fatorial2(1000)"
      ],
      "metadata": {
        "colab": {
          "base_uri": "https://localhost:8080/"
        },
        "id": "5YOA1OIixEpN",
        "outputId": "6fedef32-19a1-49ff-9e37-8de7d74ab042"
      },
      "execution_count": null,
      "outputs": [
        {
          "output_type": "stream",
          "name": "stdout",
          "text": [
            "270 µs ± 7.04 µs per loop (mean ± std. dev. of 7 runs, 1000 loops each)\n",
            "371 µs ± 11.1 µs per loop (mean ± std. dev. of 7 runs, 1000 loops each)\n"
          ]
        }
      ]
    },
    {
      "cell_type": "code",
      "source": [],
      "metadata": {
        "id": "E4m_DYNcxPhh"
      },
      "execution_count": null,
      "outputs": []
    }
  ]
}